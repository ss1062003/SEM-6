{
  "nbformat": 4,
  "nbformat_minor": 0,
  "metadata": {
    "colab": {
      "private_outputs": true,
      "provenance": []
    },
    "kernelspec": {
      "name": "ir",
      "display_name": "R"
    },
    "language_info": {
      "name": "R"
    }
  },
  "cells": [
    {
      "cell_type": "markdown",
      "source": [
        "# **Experiment No 3**\n",
        "\n",
        "**Date**: 21/03/24 \\\n",
        "\\\n",
        "**Name**    : Sachin Sapkale \\\n",
        "**Roll No** : 49 \\\n",
        "**Batch**   : A3 \\\n",
        "**Branch**  : TE-CSE(AIML)\n"
      ],
      "metadata": {
        "id": "B96g7QQEIUTN"
      }
    },
    {
      "cell_type": "code",
      "source": [
        "data <- read.csv(\"HousePricePrediction.csv\")"
      ],
      "metadata": {
        "id": "ljKDjYKFWuJ1"
      },
      "execution_count": null,
      "outputs": []
    },
    {
      "cell_type": "code",
      "source": [
        "dim(data)"
      ],
      "metadata": {
        "id": "B73Cn7cxaCRH"
      },
      "execution_count": null,
      "outputs": []
    },
    {
      "cell_type": "code",
      "source": [
        "head(data)"
      ],
      "metadata": {
        "id": "QUpqHEHQaEd6"
      },
      "execution_count": null,
      "outputs": []
    },
    {
      "cell_type": "code",
      "source": [
        "tail(data)"
      ],
      "metadata": {
        "id": "dwtgrSNBaHad"
      },
      "execution_count": null,
      "outputs": []
    },
    {
      "cell_type": "code",
      "source": [
        "getMissingValues<-function(data){\n",
        "  missing_values<-colSums(is.na(data))\n",
        "  sorted_missing_values<-sort(missing_values,decreasing = TRUE)\n",
        "  for(colName in names(sorted_missing_values)){\n",
        "    cat(\"Column: \",colName,\"\\tMissing Values\", sorted_missing_values[colName],\"\\n\")\n",
        "  }\n",
        "}"
      ],
      "metadata": {
        "id": "udKmxxy4aKDM"
      },
      "execution_count": null,
      "outputs": []
    },
    {
      "cell_type": "code",
      "source": [
        "getMissingValues(data)"
      ],
      "metadata": {
        "id": "AafKnFIjbtL2"
      },
      "execution_count": null,
      "outputs": []
    },
    {
      "cell_type": "code",
      "source": [
        "data<-na.omit(data)\n",
        "sum(is.na(data))"
      ],
      "metadata": {
        "id": "auN8eDNxcV8E"
      },
      "execution_count": null,
      "outputs": []
    },
    {
      "cell_type": "code",
      "source": [
        "data<-subset(data,select = -Id)"
      ],
      "metadata": {
        "id": "IAiFlDDzcijq"
      },
      "execution_count": null,
      "outputs": []
    },
    {
      "cell_type": "code",
      "source": [
        "data$MSZoning <- as.numeric(factor(data$MSZoning))\n",
        "data$LotConfig <- as.numeric(factor(data$LotConfig))\n",
        "data$BldgType <- as.numeric(factor(data$BldgType))\n",
        "data$Exterior1st <- as.numeric(factor(data$Exterior1st))"
      ],
      "metadata": {
        "id": "uK67uZ-hcuFd"
      },
      "execution_count": null,
      "outputs": []
    },
    {
      "cell_type": "code",
      "source": [
        "install.packages(\"ggcorrplot\")"
      ],
      "metadata": {
        "id": "jQb9bcQ4DTRJ"
      },
      "execution_count": null,
      "outputs": []
    },
    {
      "cell_type": "code",
      "source": [
        "library(ggplot2)\n",
        "library(ggcorrplot)\n",
        "ggcorrplot(cor(data),hc.order = TRUE, lab = TRUE)"
      ],
      "metadata": {
        "id": "zgJ5ThRvE90U"
      },
      "execution_count": null,
      "outputs": []
    },
    {
      "cell_type": "code",
      "source": [
        "library(ggplot2)\n",
        "ggplot(data, aes(x = SalePrice)) +\n",
        "geom_histogram(binwidth = 10000, fill = \"skyblue\", color = \"darkblue\") +\n",
        "labs(title = \"Distribution of Price\", x = \"Price\") +\n",
        "theme_minimal()"
      ],
      "metadata": {
        "id": "y18z5fS6FCZm"
      },
      "execution_count": null,
      "outputs": []
    },
    {
      "cell_type": "code",
      "source": [
        "ggplot(data, aes(x = LotArea, y = SalePrice)) +\n",
        "geom_point(color = \"red\") +\n",
        "labs(title = \"Scatter Plot: Lot Area vs. Sale Price\", x = \"Lot Area\", y = \"Sale Price\") +\n",
        "theme_minimal()+\n",
        "geom_smooth(method = lm)"
      ],
      "metadata": {
        "id": "hMQE3nU7FD9X"
      },
      "execution_count": null,
      "outputs": []
    },
    {
      "cell_type": "code",
      "source": [
        "data <- data[data$LotArea < 40000,]\n",
        "ggplot(data, aes(x = LotArea, y = SalePrice)) +\n",
        "geom_point(color = \"purple\") +\n",
        "labs(title = \"Scatter Plot: Lot Area vs. Sale Price\", x = \"Lot Area\", y = \"Sale Price\") +\n",
        "theme_minimal()+\n",
        "geom_smooth(method = lm)"
      ],
      "metadata": {
        "id": "SSeq2bzBGmxr"
      },
      "execution_count": null,
      "outputs": []
    },
    {
      "cell_type": "code",
      "source": [
        "set.seed(123)\n",
        "train_proportion <- 0.7\n",
        "train_indices <- sample(1:nrow(data),size = round(train_proportion * nrow(data)))\n",
        "train_data <- data[train_indices, ]\n",
        "test_data <- data[-train_indices, ]\n",
        "dim(train_data)\n",
        "dim(test_data)"
      ],
      "metadata": {
        "id": "f5FBW793GWGM"
      },
      "execution_count": null,
      "outputs": []
    },
    {
      "cell_type": "code",
      "source": [
        "model <- lm(SalePrice ~ ., data = train_data)\n",
        "summary(model)"
      ],
      "metadata": {
        "id": "YzYUcVQlGx0y"
      },
      "execution_count": null,
      "outputs": []
    },
    {
      "cell_type": "code",
      "source": [
        "predictions <- predict(model, newdata = test_data)\n",
        "head(predictions)"
      ],
      "metadata": {
        "id": "GXg94HO8Hzzt"
      },
      "execution_count": null,
      "outputs": []
    },
    {
      "cell_type": "code",
      "source": [
        "test_case <- data.frame(MSSubClass = 60,MSZoning = 4,LotArea = 8450,\n",
        "LotConfig = 5, BldgType = 1, OverallCond = 5,\n",
        "YearBuilt = 2003, YearRemodAdd = 2003,\n",
        "Exterior1st = 13, BsmtFinSF2 = 0,\n",
        "TotalBsmtSF = 856\n",
        ")\n",
        "predicted_price <- predict(model,newdata = test_case)\n",
        "print(predicted_price)"
      ],
      "metadata": {
        "id": "3sdWEbDvH3gH"
      },
      "execution_count": null,
      "outputs": []
    }
  ]
}