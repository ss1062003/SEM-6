{
  "nbformat": 4,
  "nbformat_minor": 0,
  "metadata": {
    "colab": {
      "private_outputs": true,
      "provenance": []
    },
    "kernelspec": {
      "name": "ir",
      "display_name": "R"
    },
    "language_info": {
      "name": "R"
    }
  },
  "cells": [
    {
      "cell_type": "code",
      "source": [
        "# Name      : Sachin Sapkale\n",
        "# Moodle Id : 21106026\n",
        "# Roll no   : 49\n",
        "# Batch     : A3\n",
        "# Branch    : CSE(AIML)"
      ],
      "metadata": {
        "id": "PAPLtXszQjZm"
      },
      "execution_count": null,
      "outputs": []
    },
    {
      "cell_type": "code",
      "source": [
        "# Que 1) Using CardioGoodFitness.csv Dataset perform the following in R:"
      ],
      "metadata": {
        "id": "qpcDTwmPUyEs"
      },
      "execution_count": null,
      "outputs": []
    },
    {
      "cell_type": "code",
      "source": [
        "data <-read.csv(\"CardioGoodFitness.csv\",stringsAsFactors = F)"
      ],
      "metadata": {
        "id": "q1d3gHdnUyJz"
      },
      "execution_count": null,
      "outputs": []
    },
    {
      "cell_type": "code",
      "source": [
        "print(data)"
      ],
      "metadata": {
        "id": "QZY-fDvjV9XH"
      },
      "execution_count": null,
      "outputs": []
    },
    {
      "cell_type": "code",
      "source": [
        "# 1.Calculate the mean, median of the Fitness colum1n."
      ],
      "metadata": {
        "id": "6O02sd_jYG6_"
      },
      "execution_count": null,
      "outputs": []
    },
    {
      "cell_type": "code",
      "source": [
        "# Mean\n",
        "mean_fitness <- mean(data$Fitness)\n",
        "print(mean_fitness)"
      ],
      "metadata": {
        "id": "rGKOUyQ7dKXm"
      },
      "execution_count": null,
      "outputs": []
    },
    {
      "cell_type": "code",
      "source": [
        "# Median\n",
        "median_fitness <- median(data$Fitness)\n",
        "print(median_fitness)"
      ],
      "metadata": {
        "id": "kwUcNF93bQYv"
      },
      "execution_count": null,
      "outputs": []
    },
    {
      "cell_type": "code",
      "source": [
        "# 2.Display the minimum and maximum value of Fitness column."
      ],
      "metadata": {
        "id": "JCLIkiG8c-qa"
      },
      "execution_count": null,
      "outputs": []
    },
    {
      "cell_type": "code",
      "source": [
        "# minimum value of Fitness\n",
        "min_fitness <- min(data$Fitness)\n",
        "print(min_fitness)"
      ],
      "metadata": {
        "id": "w4QyxLQjb1If"
      },
      "execution_count": null,
      "outputs": []
    },
    {
      "cell_type": "code",
      "source": [
        "# maximum value of Fitness\n",
        "max_fitness <- max(data$Fitness)\n",
        "print(max_fitness)"
      ],
      "metadata": {
        "id": "YxQ9CB3lcS5B"
      },
      "execution_count": null,
      "outputs": []
    },
    {
      "cell_type": "code",
      "source": [
        "# 3.Display the quartiles and Calculate IQR."
      ],
      "metadata": {
        "id": "YroJU8vHcWvC"
      },
      "execution_count": null,
      "outputs": []
    },
    {
      "cell_type": "code",
      "source": [
        "# Display the quartiles\n",
        "quartiles <- quantile(data$Fitness, probs = c(0.25, 0.5, 0.75))\n",
        "print(quartiles)"
      ],
      "metadata": {
        "id": "y12fuRalcnwY"
      },
      "execution_count": null,
      "outputs": []
    },
    {
      "cell_type": "code",
      "source": [
        "# Calculate IQR\n",
        "IQR <- quartiles[3] - quartiles[1]\n",
        "print(IQR)"
      ],
      "metadata": {
        "id": "1P6CZPOfcqrc"
      },
      "execution_count": null,
      "outputs": []
    },
    {
      "cell_type": "code",
      "source": [
        "# 4. Display the summary of Fitness column.\n",
        "summary(data$Fitness)"
      ],
      "metadata": {
        "id": "GSmAOKNOdb-1"
      },
      "execution_count": null,
      "outputs": []
    },
    {
      "cell_type": "code",
      "source": [
        "# 5.Display the first 6 rows of Dataset.\n",
        "head(data, 6)"
      ],
      "metadata": {
        "id": "6DyKvES8dpZl"
      },
      "execution_count": null,
      "outputs": []
    },
    {
      "cell_type": "code",
      "source": [
        "# 6. Display the summary of the Dataset.\n",
        "summary(data)"
      ],
      "metadata": {
        "id": "5Uw3XtmCdxEb"
      },
      "execution_count": null,
      "outputs": []
    },
    {
      "cell_type": "code",
      "source": [
        "# 7. Display a boxplot and barchart using R."
      ],
      "metadata": {
        "id": "XiwLAmqcd8Dq"
      },
      "execution_count": null,
      "outputs": []
    },
    {
      "cell_type": "code",
      "source": [
        "# Boxplot\n",
        "boxplot(data$Fitness, main = \"Boxplot of Fitness\", xlab = \"Fitness\")"
      ],
      "metadata": {
        "id": "4CILjpUFeFfV"
      },
      "execution_count": null,
      "outputs": []
    },
    {
      "cell_type": "code",
      "source": [
        "# Bar chart\n",
        "barplot(table(data$Fitness), main = \"Bar Chart of Fitness\", xlab = \"Fitness\", ylab = \"Frequency\")"
      ],
      "metadata": {
        "id": "qZRGMY2ceHwx"
      },
      "execution_count": null,
      "outputs": []
    },
    {
      "cell_type": "code",
      "source": [
        "library(tidyverse)"
      ],
      "metadata": {
        "id": "cfvByv1RfkhD"
      },
      "execution_count": null,
      "outputs": []
    },
    {
      "cell_type": "code",
      "source": [
        "data()"
      ],
      "metadata": {
        "id": "c8L3f2effrje"
      },
      "execution_count": null,
      "outputs": []
    },
    {
      "cell_type": "code",
      "source": [
        "BOD"
      ],
      "metadata": {
        "id": "NYkg3iZAf1K5"
      },
      "execution_count": null,
      "outputs": []
    },
    {
      "cell_type": "code",
      "source": [
        "# 8.Display simple line graph using ggplot library. The Dataset to be used is BOD\n",
        "library(ggplot2)\n",
        "df <- data.frame(x = 1:10, y = c(2, 3, 5, 7, 8, 10, 12, 13, 15, 18))\n",
        "ggplot(df, aes(x = x, y = y)) +\n",
        "  geom_line()"
      ],
      "metadata": {
        "id": "fOaF9JzhgAC_"
      },
      "execution_count": null,
      "outputs": []
    },
    {
      "cell_type": "code",
      "source": [
        "CO2"
      ],
      "metadata": {
        "id": "_Aik1n_Lf8Vw"
      },
      "execution_count": null,
      "outputs": []
    },
    {
      "cell_type": "code",
      "source": [
        "# 9. Create a linear graph by using maximum attributes of the dataset CO2.\n",
        "ggplot(CO2, aes(x = conc, y = uptake, color = Type, shape = Type)) +\n",
        "  geom_line() +\n",
        "  labs(title = \"Linear Graph of CO2 Uptake\",\n",
        "       x = \"CO2 Concentration\",\n",
        "       y = \"CO2 Uptake\")"
      ],
      "metadata": {
        "id": "CYY1RMLGgbNn"
      },
      "execution_count": null,
      "outputs": []
    },
    {
      "cell_type": "code",
      "source": [
        "# 10. Create a box plot using ggplot considering CO2 Dataset.\n",
        "ggplot(CO2, aes(x = Type, y = uptake)) +\n",
        "  geom_boxplot() +\n",
        "  labs(title = \"Box Plot of CO2 Uptake by Type\",\n",
        "       x = \"Type\",\n",
        "       y = \"CO2 Uptake\")"
      ],
      "metadata": {
        "id": "z3alv8940AwX"
      },
      "execution_count": null,
      "outputs": []
    }
  ]
}